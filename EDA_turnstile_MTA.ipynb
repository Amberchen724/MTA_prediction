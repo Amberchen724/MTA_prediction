{
 "cells": [
  {
   "cell_type": "markdown",
   "metadata": {},
   "source": [
    "### As the observation of the data, the number of entrace and exits are accumulative number, we are aiming to calculate the absolute increase per each four hours in each locations"
   ]
  },
  {
   "cell_type": "code",
   "execution_count": 153,
   "metadata": {},
   "outputs": [
    {
     "name": "stdout",
     "output_type": "stream",
     "text": [
      "Populating the interactive namespace from numpy and matplotlib\n"
     ]
    },
    {
     "name": "stderr",
     "output_type": "stream",
     "text": [
      "/Users/amber/anaconda3/lib/python3.7/site-packages/IPython/core/magics/pylab.py:160: UserWarning: pylab import has clobbered these variables: ['datetime', 'time']\n",
      "`%matplotlib` prevents importing * from pylab and numpy\n",
      "  \"\\n`%matplotlib` prevents importing * from pylab and numpy\"\n"
     ]
    }
   ],
   "source": [
    "import geopandas as gpd\n",
    "import pandas as pd\n",
    "import numpy as np\n",
    "import urllib\n",
    "import requests\n",
    "import os\n",
    "import io\n",
    "import json\n",
    "import pylab as pl\n",
    "import shapely\n",
    "from fiona.crs import from_epsg\n",
    "\n",
    "%pylab inline"
   ]
  },
  {
   "cell_type": "markdown",
   "metadata": {},
   "source": [
    "## Analyze for 2018 and 2019"
   ]
  },
  {
   "cell_type": "code",
   "execution_count": 116,
   "metadata": {},
   "outputs": [],
   "source": [
    "mta_df = pd.read_csv('turnstile_2018_19.csv')"
   ]
  },
  {
   "cell_type": "markdown",
   "metadata": {},
   "source": [
    "### calculate net_entries and net_exits for each data rows in the dataset"
   ]
  },
  {
   "cell_type": "code",
   "execution_count": 117,
   "metadata": {},
   "outputs": [],
   "source": [
    "# create a unique ID for every turnstile, which combine the columns 'C/A','UNIT','SCP'\n",
    "mta_df['UNIQUE_ID'] = mta_df['C/A'] + '-' + mta_df['UNIT'] + '-' + mta_df['SCP']"
   ]
  },
  {
   "cell_type": "code",
   "execution_count": 118,
   "metadata": {},
   "outputs": [],
   "source": [
    "#mta_df= mta_df[['NAME', 'the_geom','UNIQUE_ID', 'LINE', 'C/A', 'UNIT', 'SCP', 'STATION', 'LINENAME',\n",
    "       #'DIVISION', 'DATE', 'TIME', 'DESC', 'ENTRIES', 'EXITS']]"
   ]
  },
  {
   "cell_type": "code",
   "execution_count": 119,
   "metadata": {},
   "outputs": [
    {
     "data": {
      "text/html": [
       "<div>\n",
       "<style scoped>\n",
       "    .dataframe tbody tr th:only-of-type {\n",
       "        vertical-align: middle;\n",
       "    }\n",
       "\n",
       "    .dataframe tbody tr th {\n",
       "        vertical-align: top;\n",
       "    }\n",
       "\n",
       "    .dataframe thead th {\n",
       "        text-align: right;\n",
       "    }\n",
       "</style>\n",
       "<table border=\"1\" class=\"dataframe\">\n",
       "  <thead>\n",
       "    <tr style=\"text-align: right;\">\n",
       "      <th></th>\n",
       "      <th>C/A</th>\n",
       "      <th>UNIT</th>\n",
       "      <th>SCP</th>\n",
       "      <th>STATION</th>\n",
       "      <th>LINENAME</th>\n",
       "      <th>DIVISION</th>\n",
       "      <th>DATE</th>\n",
       "      <th>TIME</th>\n",
       "      <th>DESC</th>\n",
       "      <th>ENTRIES</th>\n",
       "      <th>EXITS</th>\n",
       "      <th>UNIQUE_ID</th>\n",
       "    </tr>\n",
       "  </thead>\n",
       "  <tbody>\n",
       "    <tr>\n",
       "      <th>0</th>\n",
       "      <td>A002</td>\n",
       "      <td>R051</td>\n",
       "      <td>02-00-00</td>\n",
       "      <td>59 ST</td>\n",
       "      <td>NQR456W</td>\n",
       "      <td>BMT</td>\n",
       "      <td>12/30/2017</td>\n",
       "      <td>03:00:00</td>\n",
       "      <td>REGULAR</td>\n",
       "      <td>6463109</td>\n",
       "      <td>2187558</td>\n",
       "      <td>A002-R051-02-00-00</td>\n",
       "    </tr>\n",
       "    <tr>\n",
       "      <th>1</th>\n",
       "      <td>A002</td>\n",
       "      <td>R051</td>\n",
       "      <td>02-00-00</td>\n",
       "      <td>59 ST</td>\n",
       "      <td>NQR456W</td>\n",
       "      <td>BMT</td>\n",
       "      <td>12/30/2017</td>\n",
       "      <td>07:00:00</td>\n",
       "      <td>REGULAR</td>\n",
       "      <td>6463119</td>\n",
       "      <td>2187567</td>\n",
       "      <td>A002-R051-02-00-00</td>\n",
       "    </tr>\n",
       "    <tr>\n",
       "      <th>2</th>\n",
       "      <td>A002</td>\n",
       "      <td>R051</td>\n",
       "      <td>02-00-00</td>\n",
       "      <td>59 ST</td>\n",
       "      <td>NQR456W</td>\n",
       "      <td>BMT</td>\n",
       "      <td>12/30/2017</td>\n",
       "      <td>11:00:00</td>\n",
       "      <td>REGULAR</td>\n",
       "      <td>6463178</td>\n",
       "      <td>2187654</td>\n",
       "      <td>A002-R051-02-00-00</td>\n",
       "    </tr>\n",
       "    <tr>\n",
       "      <th>3</th>\n",
       "      <td>A002</td>\n",
       "      <td>R051</td>\n",
       "      <td>02-00-00</td>\n",
       "      <td>59 ST</td>\n",
       "      <td>NQR456W</td>\n",
       "      <td>BMT</td>\n",
       "      <td>12/30/2017</td>\n",
       "      <td>15:00:00</td>\n",
       "      <td>REGULAR</td>\n",
       "      <td>6463373</td>\n",
       "      <td>2187736</td>\n",
       "      <td>A002-R051-02-00-00</td>\n",
       "    </tr>\n",
       "    <tr>\n",
       "      <th>4</th>\n",
       "      <td>A002</td>\n",
       "      <td>R051</td>\n",
       "      <td>02-00-00</td>\n",
       "      <td>59 ST</td>\n",
       "      <td>NQR456W</td>\n",
       "      <td>BMT</td>\n",
       "      <td>12/30/2017</td>\n",
       "      <td>19:00:00</td>\n",
       "      <td>REGULAR</td>\n",
       "      <td>6463712</td>\n",
       "      <td>2187803</td>\n",
       "      <td>A002-R051-02-00-00</td>\n",
       "    </tr>\n",
       "  </tbody>\n",
       "</table>\n",
       "</div>"
      ],
      "text/plain": [
       "    C/A  UNIT       SCP STATION LINENAME DIVISION        DATE      TIME  \\\n",
       "0  A002  R051  02-00-00   59 ST  NQR456W      BMT  12/30/2017  03:00:00   \n",
       "1  A002  R051  02-00-00   59 ST  NQR456W      BMT  12/30/2017  07:00:00   \n",
       "2  A002  R051  02-00-00   59 ST  NQR456W      BMT  12/30/2017  11:00:00   \n",
       "3  A002  R051  02-00-00   59 ST  NQR456W      BMT  12/30/2017  15:00:00   \n",
       "4  A002  R051  02-00-00   59 ST  NQR456W      BMT  12/30/2017  19:00:00   \n",
       "\n",
       "      DESC  ENTRIES  \\\n",
       "0  REGULAR  6463109   \n",
       "1  REGULAR  6463119   \n",
       "2  REGULAR  6463178   \n",
       "3  REGULAR  6463373   \n",
       "4  REGULAR  6463712   \n",
       "\n",
       "  EXITS                                                                 \\\n",
       "0                                            2187558                     \n",
       "1                                            2187567                     \n",
       "2                                            2187654                     \n",
       "3                                            2187736                     \n",
       "4                                            2187803                     \n",
       "\n",
       "            UNIQUE_ID  \n",
       "0  A002-R051-02-00-00  \n",
       "1  A002-R051-02-00-00  \n",
       "2  A002-R051-02-00-00  \n",
       "3  A002-R051-02-00-00  \n",
       "4  A002-R051-02-00-00  "
      ]
     },
     "execution_count": 119,
     "metadata": {},
     "output_type": "execute_result"
    }
   ],
   "source": [
    "mta_df.head()"
   ]
  },
  {
   "cell_type": "code",
   "execution_count": 120,
   "metadata": {},
   "outputs": [],
   "source": [
    "mta_df['READTIME'] = mta_df['DATE'] + ' ' + mta_df['TIME']"
   ]
  },
  {
   "cell_type": "code",
   "execution_count": 121,
   "metadata": {},
   "outputs": [],
   "source": [
    "mta_df['READTIME'] = pd.to_datetime(mta_df['READTIME'], infer_datetime_format=True,errors ='coerce')"
   ]
  },
  {
   "cell_type": "code",
   "execution_count": 122,
   "metadata": {},
   "outputs": [],
   "source": [
    "#Sorting data to calculate traffic for individual turnstile\n",
    "mta_df.sort_values(by=['STATION', 'UNIT', 'C/A', 'SCP', 'READTIME'], inplace=True)"
   ]
  },
  {
   "cell_type": "code",
   "execution_count": 123,
   "metadata": {},
   "outputs": [
    {
     "data": {
      "text/plain": [
       "Index(['C/A', 'UNIT', 'SCP', 'STATION', 'LINENAME', 'DIVISION', 'DATE', 'TIME',\n",
       "       'DESC', 'ENTRIES',\n",
       "       'EXITS                                                               ',\n",
       "       'UNIQUE_ID', 'READTIME'],\n",
       "      dtype='object')"
      ]
     },
     "execution_count": 123,
     "metadata": {},
     "output_type": "execute_result"
    }
   ],
   "source": [
    "mta_df.columns"
   ]
  },
  {
   "cell_type": "code",
   "execution_count": 124,
   "metadata": {},
   "outputs": [],
   "source": [
    "mta_df = mta_df.rename(columns={'EXITS                                                               ': 'EXITS'})"
   ]
  },
  {
   "cell_type": "code",
   "execution_count": 125,
   "metadata": {},
   "outputs": [],
   "source": [
    "mta_df[\"EXITS\"] = pd.to_numeric(mta_df.EXITS, errors='coerce')"
   ]
  },
  {
   "cell_type": "code",
   "execution_count": 126,
   "metadata": {},
   "outputs": [],
   "source": [
    "mta_df[\"ENTRIES\"] = pd.to_numeric(mta_df.EXITS, errors='coerce')"
   ]
  },
  {
   "cell_type": "code",
   "execution_count": 127,
   "metadata": {},
   "outputs": [
    {
     "data": {
      "text/plain": [
       "C/A                  object\n",
       "UNIT                 object\n",
       "SCP                  object\n",
       "STATION              object\n",
       "LINENAME             object\n",
       "DIVISION             object\n",
       "DATE                 object\n",
       "TIME                 object\n",
       "DESC                 object\n",
       "ENTRIES             float64\n",
       "EXITS               float64\n",
       "UNIQUE_ID            object\n",
       "READTIME     datetime64[ns]\n",
       "dtype: object"
      ]
     },
     "execution_count": 127,
     "metadata": {},
     "output_type": "execute_result"
    }
   ],
   "source": [
    "mta_df.dtypes"
   ]
  },
  {
   "cell_type": "code",
   "execution_count": 128,
   "metadata": {},
   "outputs": [],
   "source": [
    "#Calculate new entries and net exits, calculate the number different between two data records\n",
    "mta_df['NET_ENTRIES'] = mta_df.groupby(['STATION', 'UNIQUE_ID'])['ENTRIES'].transform(pd.Series.diff)\n",
    "mta_df['NET_EXITS'] = mta_df.groupby(['STATION', 'UNIQUE_ID'])['EXITS'].transform(pd.Series.diff)"
   ]
  },
  {
   "cell_type": "code",
   "execution_count": 129,
   "metadata": {},
   "outputs": [],
   "source": [
    "mta_df['NET_ENTRIES'] = mta_df['NET_ENTRIES'].fillna(1)\n",
    "mta_df['NET_EXITS'] = mta_df['NET_EXITS'].fillna(1)"
   ]
  },
  {
   "cell_type": "code",
   "execution_count": 130,
   "metadata": {},
   "outputs": [
    {
     "data": {
      "text/html": [
       "<div>\n",
       "<style scoped>\n",
       "    .dataframe tbody tr th:only-of-type {\n",
       "        vertical-align: middle;\n",
       "    }\n",
       "\n",
       "    .dataframe tbody tr th {\n",
       "        vertical-align: top;\n",
       "    }\n",
       "\n",
       "    .dataframe thead th {\n",
       "        text-align: right;\n",
       "    }\n",
       "</style>\n",
       "<table border=\"1\" class=\"dataframe\">\n",
       "  <thead>\n",
       "    <tr style=\"text-align: right;\">\n",
       "      <th></th>\n",
       "      <th>C/A</th>\n",
       "      <th>UNIT</th>\n",
       "      <th>SCP</th>\n",
       "      <th>STATION</th>\n",
       "      <th>LINENAME</th>\n",
       "      <th>DIVISION</th>\n",
       "      <th>DATE</th>\n",
       "      <th>TIME</th>\n",
       "      <th>DESC</th>\n",
       "      <th>ENTRIES</th>\n",
       "      <th>EXITS</th>\n",
       "      <th>UNIQUE_ID</th>\n",
       "      <th>READTIME</th>\n",
       "      <th>NET_ENTRIES</th>\n",
       "      <th>NET_EXITS</th>\n",
       "      <th>DAY_OF_WEEK</th>\n",
       "    </tr>\n",
       "  </thead>\n",
       "  <tbody>\n",
       "    <tr>\n",
       "      <th>30557</th>\n",
       "      <td>H007</td>\n",
       "      <td>R248</td>\n",
       "      <td>00-00-00</td>\n",
       "      <td>1 AV</td>\n",
       "      <td>L</td>\n",
       "      <td>BMT</td>\n",
       "      <td>12/30/2017</td>\n",
       "      <td>03:00:00</td>\n",
       "      <td>REGULAR</td>\n",
       "      <td>14564385.0</td>\n",
       "      <td>14564385.0</td>\n",
       "      <td>H007-R248-00-00-00</td>\n",
       "      <td>2017-12-30 03:00:00</td>\n",
       "      <td>1.0</td>\n",
       "      <td>1.0</td>\n",
       "      <td>5.0</td>\n",
       "    </tr>\n",
       "    <tr>\n",
       "      <th>30558</th>\n",
       "      <td>H007</td>\n",
       "      <td>R248</td>\n",
       "      <td>00-00-00</td>\n",
       "      <td>1 AV</td>\n",
       "      <td>L</td>\n",
       "      <td>BMT</td>\n",
       "      <td>12/30/2017</td>\n",
       "      <td>07:00:00</td>\n",
       "      <td>REGULAR</td>\n",
       "      <td>14564523.0</td>\n",
       "      <td>14564523.0</td>\n",
       "      <td>H007-R248-00-00-00</td>\n",
       "      <td>2017-12-30 07:00:00</td>\n",
       "      <td>138.0</td>\n",
       "      <td>138.0</td>\n",
       "      <td>5.0</td>\n",
       "    </tr>\n",
       "    <tr>\n",
       "      <th>30559</th>\n",
       "      <td>H007</td>\n",
       "      <td>R248</td>\n",
       "      <td>00-00-00</td>\n",
       "      <td>1 AV</td>\n",
       "      <td>L</td>\n",
       "      <td>BMT</td>\n",
       "      <td>12/30/2017</td>\n",
       "      <td>11:00:00</td>\n",
       "      <td>REGULAR</td>\n",
       "      <td>14565009.0</td>\n",
       "      <td>14565009.0</td>\n",
       "      <td>H007-R248-00-00-00</td>\n",
       "      <td>2017-12-30 11:00:00</td>\n",
       "      <td>486.0</td>\n",
       "      <td>486.0</td>\n",
       "      <td>5.0</td>\n",
       "    </tr>\n",
       "  </tbody>\n",
       "</table>\n",
       "</div>"
      ],
      "text/plain": [
       "        C/A  UNIT       SCP STATION LINENAME DIVISION        DATE      TIME  \\\n",
       "30557  H007  R248  00-00-00    1 AV        L      BMT  12/30/2017  03:00:00   \n",
       "30558  H007  R248  00-00-00    1 AV        L      BMT  12/30/2017  07:00:00   \n",
       "30559  H007  R248  00-00-00    1 AV        L      BMT  12/30/2017  11:00:00   \n",
       "\n",
       "          DESC     ENTRIES       EXITS           UNIQUE_ID  \\\n",
       "30557  REGULAR  14564385.0  14564385.0  H007-R248-00-00-00   \n",
       "30558  REGULAR  14564523.0  14564523.0  H007-R248-00-00-00   \n",
       "30559  REGULAR  14565009.0  14565009.0  H007-R248-00-00-00   \n",
       "\n",
       "                 READTIME  NET_ENTRIES  NET_EXITS  DAY_OF_WEEK  \n",
       "30557 2017-12-30 03:00:00          1.0        1.0          5.0  \n",
       "30558 2017-12-30 07:00:00        138.0      138.0          5.0  \n",
       "30559 2017-12-30 11:00:00        486.0      486.0          5.0  "
      ]
     },
     "execution_count": 130,
     "metadata": {},
     "output_type": "execute_result"
    }
   ],
   "source": [
    "#Adding ['Day of the week' in form of an integer]\n",
    "mta_df['DAY_OF_WEEK'] = mta_df['READTIME'].dt.dayofweek\n",
    "\n",
    "mta_df.head(3)"
   ]
  },
  {
   "cell_type": "code",
   "execution_count": 131,
   "metadata": {},
   "outputs": [],
   "source": [
    "#Filtering out outliers and negative values\n",
    "\n",
    "mta_df = mta_df[(mta_df['NET_ENTRIES'] >= 0)\n",
    "                & (mta_df['NET_ENTRIES'] < 100000)\n",
    "               & (mta_df['NET_EXITS'] >= 0)\n",
    "                & (mta_df['NET_EXITS'] < 100000)\n",
    "               & (mta_df['DAY_OF_WEEK'] < 5)]"
   ]
  },
  {
   "cell_type": "code",
   "execution_count": 132,
   "metadata": {},
   "outputs": [],
   "source": [
    "mta_df.loc[mta_df['DAY_OF_WEEK'] == 0, 'label'] = 'Monday'\n",
    "mta_df.loc[mta_df['DAY_OF_WEEK'] == 1, 'label'] = 'Tuesday'\n",
    "mta_df.loc[mta_df['DAY_OF_WEEK'] == 2, 'label'] = 'Wednesday'\n",
    "mta_df.loc[mta_df['DAY_OF_WEEK'] == 3, 'label'] = 'Thursday'\n",
    "mta_df.loc[mta_df['DAY_OF_WEEK'] == 4, 'label'] = 'Friday'"
   ]
  },
  {
   "cell_type": "code",
   "execution_count": 133,
   "metadata": {},
   "outputs": [
    {
     "data": {
      "text/plain": [
       "array(['Monday', 'Tuesday', 'Wednesday', 'Thursday', 'Friday'],\n",
       "      dtype=object)"
      ]
     },
     "execution_count": 133,
     "metadata": {},
     "output_type": "execute_result"
    }
   ],
   "source": [
    "mta_df.label.unique()"
   ]
  },
  {
   "cell_type": "code",
   "execution_count": 134,
   "metadata": {},
   "outputs": [
    {
     "data": {
      "text/html": [
       "<div>\n",
       "<style scoped>\n",
       "    .dataframe tbody tr th:only-of-type {\n",
       "        vertical-align: middle;\n",
       "    }\n",
       "\n",
       "    .dataframe tbody tr th {\n",
       "        vertical-align: top;\n",
       "    }\n",
       "\n",
       "    .dataframe thead th {\n",
       "        text-align: right;\n",
       "    }\n",
       "</style>\n",
       "<table border=\"1\" class=\"dataframe\">\n",
       "  <thead>\n",
       "    <tr style=\"text-align: right;\">\n",
       "      <th></th>\n",
       "      <th>C/A</th>\n",
       "      <th>UNIT</th>\n",
       "      <th>SCP</th>\n",
       "      <th>STATION</th>\n",
       "      <th>LINENAME</th>\n",
       "      <th>DIVISION</th>\n",
       "      <th>DATE</th>\n",
       "      <th>TIME</th>\n",
       "      <th>DESC</th>\n",
       "      <th>ENTRIES</th>\n",
       "      <th>EXITS</th>\n",
       "      <th>UNIQUE_ID</th>\n",
       "      <th>READTIME</th>\n",
       "      <th>NET_ENTRIES</th>\n",
       "      <th>NET_EXITS</th>\n",
       "      <th>DAY_OF_WEEK</th>\n",
       "      <th>label</th>\n",
       "    </tr>\n",
       "  </thead>\n",
       "  <tbody>\n",
       "    <tr>\n",
       "      <th>30569</th>\n",
       "      <td>H007</td>\n",
       "      <td>R248</td>\n",
       "      <td>00-00-00</td>\n",
       "      <td>1 AV</td>\n",
       "      <td>L</td>\n",
       "      <td>BMT</td>\n",
       "      <td>01/01/2018</td>\n",
       "      <td>03:00:00</td>\n",
       "      <td>REGULAR</td>\n",
       "      <td>14570220.0</td>\n",
       "      <td>14570220.0</td>\n",
       "      <td>H007-R248-00-00-00</td>\n",
       "      <td>2018-01-01 03:00:00</td>\n",
       "      <td>429.0</td>\n",
       "      <td>429.0</td>\n",
       "      <td>0.0</td>\n",
       "      <td>Monday</td>\n",
       "    </tr>\n",
       "    <tr>\n",
       "      <th>30570</th>\n",
       "      <td>H007</td>\n",
       "      <td>R248</td>\n",
       "      <td>00-00-00</td>\n",
       "      <td>1 AV</td>\n",
       "      <td>L</td>\n",
       "      <td>BMT</td>\n",
       "      <td>01/01/2018</td>\n",
       "      <td>07:00:00</td>\n",
       "      <td>REGULAR</td>\n",
       "      <td>14570379.0</td>\n",
       "      <td>14570379.0</td>\n",
       "      <td>H007-R248-00-00-00</td>\n",
       "      <td>2018-01-01 07:00:00</td>\n",
       "      <td>159.0</td>\n",
       "      <td>159.0</td>\n",
       "      <td>0.0</td>\n",
       "      <td>Monday</td>\n",
       "    </tr>\n",
       "    <tr>\n",
       "      <th>30571</th>\n",
       "      <td>H007</td>\n",
       "      <td>R248</td>\n",
       "      <td>00-00-00</td>\n",
       "      <td>1 AV</td>\n",
       "      <td>L</td>\n",
       "      <td>BMT</td>\n",
       "      <td>01/01/2018</td>\n",
       "      <td>11:00:00</td>\n",
       "      <td>REGULAR</td>\n",
       "      <td>14570645.0</td>\n",
       "      <td>14570645.0</td>\n",
       "      <td>H007-R248-00-00-00</td>\n",
       "      <td>2018-01-01 11:00:00</td>\n",
       "      <td>266.0</td>\n",
       "      <td>266.0</td>\n",
       "      <td>0.0</td>\n",
       "      <td>Monday</td>\n",
       "    </tr>\n",
       "    <tr>\n",
       "      <th>30572</th>\n",
       "      <td>H007</td>\n",
       "      <td>R248</td>\n",
       "      <td>00-00-00</td>\n",
       "      <td>1 AV</td>\n",
       "      <td>L</td>\n",
       "      <td>BMT</td>\n",
       "      <td>01/01/2018</td>\n",
       "      <td>15:00:00</td>\n",
       "      <td>REGULAR</td>\n",
       "      <td>14571003.0</td>\n",
       "      <td>14571003.0</td>\n",
       "      <td>H007-R248-00-00-00</td>\n",
       "      <td>2018-01-01 15:00:00</td>\n",
       "      <td>358.0</td>\n",
       "      <td>358.0</td>\n",
       "      <td>0.0</td>\n",
       "      <td>Monday</td>\n",
       "    </tr>\n",
       "    <tr>\n",
       "      <th>30573</th>\n",
       "      <td>H007</td>\n",
       "      <td>R248</td>\n",
       "      <td>00-00-00</td>\n",
       "      <td>1 AV</td>\n",
       "      <td>L</td>\n",
       "      <td>BMT</td>\n",
       "      <td>01/01/2018</td>\n",
       "      <td>19:00:00</td>\n",
       "      <td>REGULAR</td>\n",
       "      <td>14571499.0</td>\n",
       "      <td>14571499.0</td>\n",
       "      <td>H007-R248-00-00-00</td>\n",
       "      <td>2018-01-01 19:00:00</td>\n",
       "      <td>496.0</td>\n",
       "      <td>496.0</td>\n",
       "      <td>0.0</td>\n",
       "      <td>Monday</td>\n",
       "    </tr>\n",
       "  </tbody>\n",
       "</table>\n",
       "</div>"
      ],
      "text/plain": [
       "        C/A  UNIT       SCP STATION LINENAME DIVISION        DATE      TIME  \\\n",
       "30569  H007  R248  00-00-00    1 AV        L      BMT  01/01/2018  03:00:00   \n",
       "30570  H007  R248  00-00-00    1 AV        L      BMT  01/01/2018  07:00:00   \n",
       "30571  H007  R248  00-00-00    1 AV        L      BMT  01/01/2018  11:00:00   \n",
       "30572  H007  R248  00-00-00    1 AV        L      BMT  01/01/2018  15:00:00   \n",
       "30573  H007  R248  00-00-00    1 AV        L      BMT  01/01/2018  19:00:00   \n",
       "\n",
       "          DESC     ENTRIES       EXITS           UNIQUE_ID  \\\n",
       "30569  REGULAR  14570220.0  14570220.0  H007-R248-00-00-00   \n",
       "30570  REGULAR  14570379.0  14570379.0  H007-R248-00-00-00   \n",
       "30571  REGULAR  14570645.0  14570645.0  H007-R248-00-00-00   \n",
       "30572  REGULAR  14571003.0  14571003.0  H007-R248-00-00-00   \n",
       "30573  REGULAR  14571499.0  14571499.0  H007-R248-00-00-00   \n",
       "\n",
       "                 READTIME  NET_ENTRIES  NET_EXITS  DAY_OF_WEEK   label  \n",
       "30569 2018-01-01 03:00:00        429.0      429.0          0.0  Monday  \n",
       "30570 2018-01-01 07:00:00        159.0      159.0          0.0  Monday  \n",
       "30571 2018-01-01 11:00:00        266.0      266.0          0.0  Monday  \n",
       "30572 2018-01-01 15:00:00        358.0      358.0          0.0  Monday  \n",
       "30573 2018-01-01 19:00:00        496.0      496.0          0.0  Monday  "
      ]
     },
     "execution_count": 134,
     "metadata": {},
     "output_type": "execute_result"
    }
   ],
   "source": [
    "mta_df.head()"
   ]
  },
  {
   "cell_type": "markdown",
   "metadata": {},
   "source": [
    "## Calculate total traffic per each station"
   ]
  },
  {
   "cell_type": "code",
   "execution_count": 143,
   "metadata": {},
   "outputs": [],
   "source": [
    "## calculate total traffic per each data record\n",
    "mta_df['TOTAL_TRAFFIC'] = mta_df['NET_EXITS']+ mta_df['NET_ENTRIES']"
   ]
  },
  {
   "cell_type": "code",
   "execution_count": 144,
   "metadata": {},
   "outputs": [],
   "source": [
    "station_data = mta_df.groupby(['STATION']).sum()"
   ]
  },
  {
   "cell_type": "code",
   "execution_count": 145,
   "metadata": {},
   "outputs": [
    {
     "data": {
      "text/html": [
       "<div>\n",
       "<style scoped>\n",
       "    .dataframe tbody tr th:only-of-type {\n",
       "        vertical-align: middle;\n",
       "    }\n",
       "\n",
       "    .dataframe tbody tr th {\n",
       "        vertical-align: top;\n",
       "    }\n",
       "\n",
       "    .dataframe thead th {\n",
       "        text-align: right;\n",
       "    }\n",
       "</style>\n",
       "<table border=\"1\" class=\"dataframe\">\n",
       "  <thead>\n",
       "    <tr style=\"text-align: right;\">\n",
       "      <th></th>\n",
       "      <th>ENTRIES</th>\n",
       "      <th>EXITS</th>\n",
       "      <th>NET_ENTRIES</th>\n",
       "      <th>NET_EXITS</th>\n",
       "      <th>DAY_OF_WEEK</th>\n",
       "      <th>TOTAL_TRAFFIC</th>\n",
       "      <th>STATION</th>\n",
       "    </tr>\n",
       "    <tr>\n",
       "      <th>Idx</th>\n",
       "      <th></th>\n",
       "      <th></th>\n",
       "      <th></th>\n",
       "      <th></th>\n",
       "      <th></th>\n",
       "      <th></th>\n",
       "      <th></th>\n",
       "    </tr>\n",
       "  </thead>\n",
       "  <tbody>\n",
       "    <tr>\n",
       "      <th>0</th>\n",
       "      <td>7.952797e+12</td>\n",
       "      <td>7.952797e+12</td>\n",
       "      <td>64746438.0</td>\n",
       "      <td>64746438.0</td>\n",
       "      <td>533965.0</td>\n",
       "      <td>129492876.0</td>\n",
       "      <td>34 ST-PENN STA</td>\n",
       "    </tr>\n",
       "    <tr>\n",
       "      <th>1</th>\n",
       "      <td>3.356326e+12</td>\n",
       "      <td>3.356326e+12</td>\n",
       "      <td>59586879.0</td>\n",
       "      <td>59586879.0</td>\n",
       "      <td>355282.0</td>\n",
       "      <td>119173758.0</td>\n",
       "      <td>GRD CNTRL-42 ST</td>\n",
       "    </tr>\n",
       "    <tr>\n",
       "      <th>2</th>\n",
       "      <td>1.774708e+13</td>\n",
       "      <td>1.774708e+13</td>\n",
       "      <td>49533828.0</td>\n",
       "      <td>49533828.0</td>\n",
       "      <td>297527.0</td>\n",
       "      <td>99067656.0</td>\n",
       "      <td>34 ST-HERALD SQ</td>\n",
       "    </tr>\n",
       "  </tbody>\n",
       "</table>\n",
       "</div>"
      ],
      "text/plain": [
       "          ENTRIES         EXITS  NET_ENTRIES   NET_EXITS  DAY_OF_WEEK  \\\n",
       "Idx                                                                     \n",
       "0    7.952797e+12  7.952797e+12   64746438.0  64746438.0     533965.0   \n",
       "1    3.356326e+12  3.356326e+12   59586879.0  59586879.0     355282.0   \n",
       "2    1.774708e+13  1.774708e+13   49533828.0  49533828.0     297527.0   \n",
       "\n",
       "     TOTAL_TRAFFIC          STATION  \n",
       "Idx                                  \n",
       "0      129492876.0   34 ST-PENN STA  \n",
       "1      119173758.0  GRD CNTRL-42 ST  \n",
       "2       99067656.0  34 ST-HERALD SQ  "
      ]
     },
     "execution_count": 145,
     "metadata": {},
     "output_type": "execute_result"
    }
   ],
   "source": [
    "#The station has most traffic\n",
    "station_data['STATION'] = station_data.index\n",
    "station_data = station_data.sort_values(['TOTAL_TRAFFIC'],ascending=False)\n",
    "station_data['Idx'] = np.arange(station_data.shape[0]) \n",
    "station_data = station_data.set_index('Idx')\n",
    "station_data.head(3)"
   ]
  },
  {
   "cell_type": "code",
   "execution_count": 114,
   "metadata": {},
   "outputs": [],
   "source": [
    "import seaborn as sns\n",
    "sns.set_style(\"ticks\")\n",
    "\n",
    "##Limiting our analysis to top 15 busiest stations\n",
    "station_data = station_data.iloc[:15,:]"
   ]
  },
  {
   "cell_type": "code",
   "execution_count": 115,
   "metadata": {},
   "outputs": [
    {
     "data": {
      "text/plain": [
       "Text(0.5, 1.0, 'Top 15 busiest stations in 2018 - 2019')"
      ]
     },
     "execution_count": 115,
     "metadata": {},
     "output_type": "execute_result"
    },
    {
     "data": {
      "image/png": "[encoded data removed]",
      "text/plain": [
       "<Figure size 432x288 with 1 Axes>"
      ]
     },
     "metadata": {},
     "output_type": "display_data"
    }
   ],
   "source": [
    "sns_plot = sns.barplot(x=\"TOTAL_TRAFFIC\", y='STATION', data=station_data)\n",
    "fig = sns_plot.get_figure()\n",
    "plt.xlabel(\"Total Traffic (10 million)\")\n",
    "plt.ylabel(\"Stations\")\n",
    "plt.title(\"Top 15 busiest stations in 2018 - 2019\")"
   ]
  },
  {
   "cell_type": "markdown",
   "metadata": {},
   "source": [
    "# Check the tracffic changes per week for top few stations"
   ]
  },
  {
   "cell_type": "code",
   "execution_count": 75,
   "metadata": {},
   "outputs": [
    {
     "data": {
      "text/html": [
       "<div>\n",
       "<style scoped>\n",
       "    .dataframe tbody tr th:only-of-type {\n",
       "        vertical-align: middle;\n",
       "    }\n",
       "\n",
       "    .dataframe tbody tr th {\n",
       "        vertical-align: top;\n",
       "    }\n",
       "\n",
       "    .dataframe thead th {\n",
       "        text-align: right;\n",
       "    }\n",
       "</style>\n",
       "<table border=\"1\" class=\"dataframe\">\n",
       "  <thead>\n",
       "    <tr style=\"text-align: right;\">\n",
       "      <th></th>\n",
       "      <th>STATION</th>\n",
       "      <th>label</th>\n",
       "      <th>ENTRIES</th>\n",
       "      <th>EXITS</th>\n",
       "      <th>NET_ENTRIES</th>\n",
       "      <th>NET_EXITS</th>\n",
       "      <th>DAY_OF_WEEK</th>\n",
       "      <th>TOTAL_TRAFFIC</th>\n",
       "    </tr>\n",
       "  </thead>\n",
       "  <tbody>\n",
       "    <tr>\n",
       "      <th>0</th>\n",
       "      <td>1 AV</td>\n",
       "      <td>Friday</td>\n",
       "      <td>8.606177e+11</td>\n",
       "      <td>8.606177e+11</td>\n",
       "      <td>2047589.0</td>\n",
       "      <td>2047589.0</td>\n",
       "      <td>21888.0</td>\n",
       "      <td>4095178.0</td>\n",
       "    </tr>\n",
       "    <tr>\n",
       "      <th>1</th>\n",
       "      <td>1 AV</td>\n",
       "      <td>Monday</td>\n",
       "      <td>8.565933e+11</td>\n",
       "      <td>8.565933e+11</td>\n",
       "      <td>1715609.0</td>\n",
       "      <td>1715609.0</td>\n",
       "      <td>0.0</td>\n",
       "      <td>3431218.0</td>\n",
       "    </tr>\n",
       "    <tr>\n",
       "      <th>2</th>\n",
       "      <td>1 AV</td>\n",
       "      <td>Thursday</td>\n",
       "      <td>8.583214e+11</td>\n",
       "      <td>8.583214e+11</td>\n",
       "      <td>1964671.0</td>\n",
       "      <td>1964671.0</td>\n",
       "      <td>16347.0</td>\n",
       "      <td>3929342.0</td>\n",
       "    </tr>\n",
       "    <tr>\n",
       "      <th>3</th>\n",
       "      <td>1 AV</td>\n",
       "      <td>Tuesday</td>\n",
       "      <td>8.634148e+11</td>\n",
       "      <td>8.634148e+11</td>\n",
       "      <td>1893769.0</td>\n",
       "      <td>1893769.0</td>\n",
       "      <td>5469.0</td>\n",
       "      <td>3787538.0</td>\n",
       "    </tr>\n",
       "    <tr>\n",
       "      <th>4</th>\n",
       "      <td>1 AV</td>\n",
       "      <td>Wednesday</td>\n",
       "      <td>8.519723e+11</td>\n",
       "      <td>8.519723e+11</td>\n",
       "      <td>1954927.0</td>\n",
       "      <td>1954927.0</td>\n",
       "      <td>10834.0</td>\n",
       "      <td>3909854.0</td>\n",
       "    </tr>\n",
       "  </tbody>\n",
       "</table>\n",
       "</div>"
      ],
      "text/plain": [
       "  STATION      label       ENTRIES         EXITS  NET_ENTRIES  NET_EXITS  \\\n",
       "0    1 AV     Friday  8.606177e+11  8.606177e+11    2047589.0  2047589.0   \n",
       "1    1 AV     Monday  8.565933e+11  8.565933e+11    1715609.0  1715609.0   \n",
       "2    1 AV   Thursday  8.583214e+11  8.583214e+11    1964671.0  1964671.0   \n",
       "3    1 AV    Tuesday  8.634148e+11  8.634148e+11    1893769.0  1893769.0   \n",
       "4    1 AV  Wednesday  8.519723e+11  8.519723e+11    1954927.0  1954927.0   \n",
       "\n",
       "   DAY_OF_WEEK  TOTAL_TRAFFIC  \n",
       "0      21888.0      4095178.0  \n",
       "1          0.0      3431218.0  \n",
       "2      16347.0      3929342.0  \n",
       "3       5469.0      3787538.0  \n",
       "4      10834.0      3909854.0  "
      ]
     },
     "execution_count": 75,
     "metadata": {},
     "output_type": "execute_result"
    }
   ],
   "source": [
    "#Sorting data to find the 'Total_Traffic at each station by 'day of the week'. \n",
    "\n",
    "mta_df_1=mta_df.groupby(['STATION','label']).sum()\n",
    "mta_df_1.reset_index(inplace=True)\n",
    "\n",
    "mta_df_1.head()"
   ]
  },
  {
   "cell_type": "code",
   "execution_count": 76,
   "metadata": {},
   "outputs": [],
   "source": [
    "cats = [ 'Monday', 'Tuesday', 'Wednesday', 'Thursday', 'Friday']"
   ]
  },
  {
   "cell_type": "code",
   "execution_count": 77,
   "metadata": {},
   "outputs": [],
   "source": [
    "penn_data = mta_df_1[mta_df_1['STATION'] =='34 ST-PENN STA'] "
   ]
  },
  {
   "cell_type": "code",
   "execution_count": 78,
   "metadata": {},
   "outputs": [
    {
     "data": {
      "text/html": [
       "<div>\n",
       "<style scoped>\n",
       "    .dataframe tbody tr th:only-of-type {\n",
       "        vertical-align: middle;\n",
       "    }\n",
       "\n",
       "    .dataframe tbody tr th {\n",
       "        vertical-align: top;\n",
       "    }\n",
       "\n",
       "    .dataframe thead th {\n",
       "        text-align: right;\n",
       "    }\n",
       "</style>\n",
       "<table border=\"1\" class=\"dataframe\">\n",
       "  <thead>\n",
       "    <tr style=\"text-align: right;\">\n",
       "      <th></th>\n",
       "      <th>STATION</th>\n",
       "      <th>label</th>\n",
       "      <th>ENTRIES</th>\n",
       "      <th>EXITS</th>\n",
       "      <th>NET_ENTRIES</th>\n",
       "      <th>NET_EXITS</th>\n",
       "      <th>DAY_OF_WEEK</th>\n",
       "      <th>TOTAL_TRAFFIC</th>\n",
       "    </tr>\n",
       "  </thead>\n",
       "  <tbody>\n",
       "    <tr>\n",
       "      <th>305</th>\n",
       "      <td>34 ST-PENN STA</td>\n",
       "      <td>Friday</td>\n",
       "      <td>1.606144e+12</td>\n",
       "      <td>1.606144e+12</td>\n",
       "      <td>13425405.0</td>\n",
       "      <td>13425405.0</td>\n",
       "      <td>213316.0</td>\n",
       "      <td>26850810.0</td>\n",
       "    </tr>\n",
       "    <tr>\n",
       "      <th>306</th>\n",
       "      <td>34 ST-PENN STA</td>\n",
       "      <td>Monday</td>\n",
       "      <td>1.590376e+12</td>\n",
       "      <td>1.590376e+12</td>\n",
       "      <td>11752017.0</td>\n",
       "      <td>11752017.0</td>\n",
       "      <td>0.0</td>\n",
       "      <td>23504034.0</td>\n",
       "    </tr>\n",
       "    <tr>\n",
       "      <th>307</th>\n",
       "      <td>34 ST-PENN STA</td>\n",
       "      <td>Thursday</td>\n",
       "      <td>1.589665e+12</td>\n",
       "      <td>1.589665e+12</td>\n",
       "      <td>13368295.0</td>\n",
       "      <td>13368295.0</td>\n",
       "      <td>161010.0</td>\n",
       "      <td>26736590.0</td>\n",
       "    </tr>\n",
       "    <tr>\n",
       "      <th>308</th>\n",
       "      <td>34 ST-PENN STA</td>\n",
       "      <td>Tuesday</td>\n",
       "      <td>1.577273e+12</td>\n",
       "      <td>1.577273e+12</td>\n",
       "      <td>13012468.0</td>\n",
       "      <td>13012468.0</td>\n",
       "      <td>52987.0</td>\n",
       "      <td>26024936.0</td>\n",
       "    </tr>\n",
       "    <tr>\n",
       "      <th>309</th>\n",
       "      <td>34 ST-PENN STA</td>\n",
       "      <td>Wednesday</td>\n",
       "      <td>1.589341e+12</td>\n",
       "      <td>1.589341e+12</td>\n",
       "      <td>13188253.0</td>\n",
       "      <td>13188253.0</td>\n",
       "      <td>106652.0</td>\n",
       "      <td>26376506.0</td>\n",
       "    </tr>\n",
       "  </tbody>\n",
       "</table>\n",
       "</div>"
      ],
      "text/plain": [
       "            STATION      label       ENTRIES         EXITS  NET_ENTRIES  \\\n",
       "305  34 ST-PENN STA     Friday  1.606144e+12  1.606144e+12   13425405.0   \n",
       "306  34 ST-PENN STA     Monday  1.590376e+12  1.590376e+12   11752017.0   \n",
       "307  34 ST-PENN STA   Thursday  1.589665e+12  1.589665e+12   13368295.0   \n",
       "308  34 ST-PENN STA    Tuesday  1.577273e+12  1.577273e+12   13012468.0   \n",
       "309  34 ST-PENN STA  Wednesday  1.589341e+12  1.589341e+12   13188253.0   \n",
       "\n",
       "      NET_EXITS  DAY_OF_WEEK  TOTAL_TRAFFIC  \n",
       "305  13425405.0     213316.0     26850810.0  \n",
       "306  11752017.0          0.0     23504034.0  \n",
       "307  13368295.0     161010.0     26736590.0  \n",
       "308  13012468.0      52987.0     26024936.0  \n",
       "309  13188253.0     106652.0     26376506.0  "
      ]
     },
     "execution_count": 78,
     "metadata": {},
     "output_type": "execute_result"
    }
   ],
   "source": [
    "penn_data "
   ]
  },
  {
   "cell_type": "code",
   "execution_count": 79,
   "metadata": {},
   "outputs": [
    {
     "data": {
      "text/html": [
       "<div>\n",
       "<style scoped>\n",
       "    .dataframe tbody tr th:only-of-type {\n",
       "        vertical-align: middle;\n",
       "    }\n",
       "\n",
       "    .dataframe tbody tr th {\n",
       "        vertical-align: top;\n",
       "    }\n",
       "\n",
       "    .dataframe thead th {\n",
       "        text-align: right;\n",
       "    }\n",
       "</style>\n",
       "<table border=\"1\" class=\"dataframe\">\n",
       "  <thead>\n",
       "    <tr style=\"text-align: right;\">\n",
       "      <th></th>\n",
       "      <th>label</th>\n",
       "      <th>STATION</th>\n",
       "      <th>ENTRIES</th>\n",
       "      <th>EXITS</th>\n",
       "      <th>NET_ENTRIES</th>\n",
       "      <th>NET_EXITS</th>\n",
       "      <th>DAY_OF_WEEK</th>\n",
       "      <th>TOTAL_TRAFFIC</th>\n",
       "    </tr>\n",
       "  </thead>\n",
       "  <tbody>\n",
       "    <tr>\n",
       "      <th>0</th>\n",
       "      <td>Monday</td>\n",
       "      <td>34 ST-PENN STA</td>\n",
       "      <td>1.590376e+12</td>\n",
       "      <td>1.590376e+12</td>\n",
       "      <td>11752017.0</td>\n",
       "      <td>11752017.0</td>\n",
       "      <td>0.0</td>\n",
       "      <td>23504034.0</td>\n",
       "    </tr>\n",
       "    <tr>\n",
       "      <th>1</th>\n",
       "      <td>Tuesday</td>\n",
       "      <td>34 ST-PENN STA</td>\n",
       "      <td>1.577273e+12</td>\n",
       "      <td>1.577273e+12</td>\n",
       "      <td>13012468.0</td>\n",
       "      <td>13012468.0</td>\n",
       "      <td>52987.0</td>\n",
       "      <td>26024936.0</td>\n",
       "    </tr>\n",
       "    <tr>\n",
       "      <th>2</th>\n",
       "      <td>Wednesday</td>\n",
       "      <td>34 ST-PENN STA</td>\n",
       "      <td>1.589341e+12</td>\n",
       "      <td>1.589341e+12</td>\n",
       "      <td>13188253.0</td>\n",
       "      <td>13188253.0</td>\n",
       "      <td>106652.0</td>\n",
       "      <td>26376506.0</td>\n",
       "    </tr>\n",
       "    <tr>\n",
       "      <th>3</th>\n",
       "      <td>Thursday</td>\n",
       "      <td>34 ST-PENN STA</td>\n",
       "      <td>1.589665e+12</td>\n",
       "      <td>1.589665e+12</td>\n",
       "      <td>13368295.0</td>\n",
       "      <td>13368295.0</td>\n",
       "      <td>161010.0</td>\n",
       "      <td>26736590.0</td>\n",
       "    </tr>\n",
       "    <tr>\n",
       "      <th>4</th>\n",
       "      <td>Friday</td>\n",
       "      <td>34 ST-PENN STA</td>\n",
       "      <td>1.606144e+12</td>\n",
       "      <td>1.606144e+12</td>\n",
       "      <td>13425405.0</td>\n",
       "      <td>13425405.0</td>\n",
       "      <td>213316.0</td>\n",
       "      <td>26850810.0</td>\n",
       "    </tr>\n",
       "  </tbody>\n",
       "</table>\n",
       "</div>"
      ],
      "text/plain": [
       "       label         STATION       ENTRIES         EXITS  NET_ENTRIES  \\\n",
       "0     Monday  34 ST-PENN STA  1.590376e+12  1.590376e+12   11752017.0   \n",
       "1    Tuesday  34 ST-PENN STA  1.577273e+12  1.577273e+12   13012468.0   \n",
       "2  Wednesday  34 ST-PENN STA  1.589341e+12  1.589341e+12   13188253.0   \n",
       "3   Thursday  34 ST-PENN STA  1.589665e+12  1.589665e+12   13368295.0   \n",
       "4     Friday  34 ST-PENN STA  1.606144e+12  1.606144e+12   13425405.0   \n",
       "\n",
       "    NET_EXITS  DAY_OF_WEEK  TOTAL_TRAFFIC  \n",
       "0  11752017.0          0.0     23504034.0  \n",
       "1  13012468.0      52987.0     26024936.0  \n",
       "2  13188253.0     106652.0     26376506.0  \n",
       "3  13368295.0     161010.0     26736590.0  \n",
       "4  13425405.0     213316.0     26850810.0  "
      ]
     },
     "execution_count": 79,
     "metadata": {},
     "output_type": "execute_result"
    }
   ],
   "source": [
    "penn_data_df = penn_data.set_index('label').reindex(cats).reset_index()\n",
    "penn_data_df"
   ]
  },
  {
   "cell_type": "code",
   "execution_count": 80,
   "metadata": {},
   "outputs": [
    {
     "data": {
      "text/plain": [
       "Text(0, 0.5, 'Total Traffic')"
      ]
     },
     "execution_count": 80,
     "metadata": {},
     "output_type": "execute_result"
    },
    {
     "data": {
      "image/png": "[encoded data removed]",
      "text/plain": [
       "<Figure size 432x288 with 1 Axes>"
      ]
     },
     "metadata": {},
     "output_type": "display_data"
    }
   ],
   "source": [
    "penn_data_df.head()\n",
    "y = penn_data_df['TOTAL_TRAFFIC']\n",
    "x = penn_data_df['label']\n",
    "\n",
    "plt.plot(x,y)\n",
    "plt.title(\"34 TH ST STATION\",fontsize=14,weight='bold')\n",
    "plt.xlabel('Day in a week', fontsize=12, weight='bold')\n",
    "plt.ylabel('Total Traffic', fontsize=12,weight='bold')"
   ]
  },
  {
   "cell_type": "code",
   "execution_count": 81,
   "metadata": {},
   "outputs": [
    {
     "data": {
      "text/html": [
       "<div>\n",
       "<style scoped>\n",
       "    .dataframe tbody tr th:only-of-type {\n",
       "        vertical-align: middle;\n",
       "    }\n",
       "\n",
       "    .dataframe tbody tr th {\n",
       "        vertical-align: top;\n",
       "    }\n",
       "\n",
       "    .dataframe thead th {\n",
       "        text-align: right;\n",
       "    }\n",
       "</style>\n",
       "<table border=\"1\" class=\"dataframe\">\n",
       "  <thead>\n",
       "    <tr style=\"text-align: right;\">\n",
       "      <th></th>\n",
       "      <th>label</th>\n",
       "      <th>STATION</th>\n",
       "      <th>ENTRIES</th>\n",
       "      <th>EXITS</th>\n",
       "      <th>NET_ENTRIES</th>\n",
       "      <th>NET_EXITS</th>\n",
       "      <th>DAY_OF_WEEK</th>\n",
       "      <th>TOTAL_TRAFFIC</th>\n",
       "    </tr>\n",
       "  </thead>\n",
       "  <tbody>\n",
       "    <tr>\n",
       "      <th>0</th>\n",
       "      <td>Monday</td>\n",
       "      <td>GRD CNTRL-42 ST</td>\n",
       "      <td>6.772785e+11</td>\n",
       "      <td>6.772785e+11</td>\n",
       "      <td>10951322.0</td>\n",
       "      <td>10951322.0</td>\n",
       "      <td>0.0</td>\n",
       "      <td>21902644.0</td>\n",
       "    </tr>\n",
       "    <tr>\n",
       "      <th>1</th>\n",
       "      <td>Tuesday</td>\n",
       "      <td>GRD CNTRL-42 ST</td>\n",
       "      <td>6.835254e+11</td>\n",
       "      <td>6.835254e+11</td>\n",
       "      <td>12226900.0</td>\n",
       "      <td>12226900.0</td>\n",
       "      <td>35660.0</td>\n",
       "      <td>24453800.0</td>\n",
       "    </tr>\n",
       "    <tr>\n",
       "      <th>2</th>\n",
       "      <td>Wednesday</td>\n",
       "      <td>GRD CNTRL-42 ST</td>\n",
       "      <td>6.649845e+11</td>\n",
       "      <td>6.649845e+11</td>\n",
       "      <td>12310655.0</td>\n",
       "      <td>12310655.0</td>\n",
       "      <td>71044.0</td>\n",
       "      <td>24621310.0</td>\n",
       "    </tr>\n",
       "    <tr>\n",
       "      <th>3</th>\n",
       "      <td>Thursday</td>\n",
       "      <td>GRD CNTRL-42 ST</td>\n",
       "      <td>6.596262e+11</td>\n",
       "      <td>6.596262e+11</td>\n",
       "      <td>12381970.0</td>\n",
       "      <td>12381970.0</td>\n",
       "      <td>105510.0</td>\n",
       "      <td>24763940.0</td>\n",
       "    </tr>\n",
       "    <tr>\n",
       "      <th>4</th>\n",
       "      <td>Friday</td>\n",
       "      <td>GRD CNTRL-42 ST</td>\n",
       "      <td>6.709116e+11</td>\n",
       "      <td>6.709116e+11</td>\n",
       "      <td>11716032.0</td>\n",
       "      <td>11716032.0</td>\n",
       "      <td>143068.0</td>\n",
       "      <td>23432064.0</td>\n",
       "    </tr>\n",
       "  </tbody>\n",
       "</table>\n",
       "</div>"
      ],
      "text/plain": [
       "       label          STATION       ENTRIES         EXITS  NET_ENTRIES  \\\n",
       "0     Monday  GRD CNTRL-42 ST  6.772785e+11  6.772785e+11   10951322.0   \n",
       "1    Tuesday  GRD CNTRL-42 ST  6.835254e+11  6.835254e+11   12226900.0   \n",
       "2  Wednesday  GRD CNTRL-42 ST  6.649845e+11  6.649845e+11   12310655.0   \n",
       "3   Thursday  GRD CNTRL-42 ST  6.596262e+11  6.596262e+11   12381970.0   \n",
       "4     Friday  GRD CNTRL-42 ST  6.709116e+11  6.709116e+11   11716032.0   \n",
       "\n",
       "    NET_EXITS  DAY_OF_WEEK  TOTAL_TRAFFIC  \n",
       "0  10951322.0          0.0     21902644.0  \n",
       "1  12226900.0      35660.0     24453800.0  \n",
       "2  12310655.0      71044.0     24621310.0  \n",
       "3  12381970.0     105510.0     24763940.0  \n",
       "4  11716032.0     143068.0     23432064.0  "
      ]
     },
     "execution_count": 81,
     "metadata": {},
     "output_type": "execute_result"
    }
   ],
   "source": [
    "grand_central_data = mta_df_1[mta_df_1['STATION'] =='GRD CNTRL-42 ST'] \n",
    "grand_central_data_df  = grand_central_data.set_index('label').reindex(cats).reset_index()\n",
    "grand_central_data_df"
   ]
  },
  {
   "cell_type": "code",
   "execution_count": 82,
   "metadata": {},
   "outputs": [
    {
     "data": {
      "text/plain": [
       "Text(0, 0.5, 'Total Traffic')"
      ]
     },
     "execution_count": 82,
     "metadata": {},
     "output_type": "execute_result"
    },
    {
     "data": {
      "image/png": "[encoded data removed]",
      "text/plain": [
       "<Figure size 432x288 with 1 Axes>"
      ]
     },
     "metadata": {},
     "output_type": "display_data"
    }
   ],
   "source": [
    "\n",
    "y = grand_central_data_df['TOTAL_TRAFFIC']\n",
    "x = grand_central_data_df['label']\n",
    "\n",
    "plt.plot(x,y)\n",
    "\n",
    "plt.title(\"GRD CNTRL-42 ST\",fontsize=14,weight='bold')\n",
    "plt.xlabel('Day in a week', fontsize=12,weight='bold')\n",
    "plt.ylabel('Total Traffic', fontsize=12,weight='bold')\n"
   ]
  },
  {
   "cell_type": "code",
   "execution_count": 88,
   "metadata": {},
   "outputs": [
    {
     "data": {
      "text/html": [
       "<div>\n",
       "<style scoped>\n",
       "    .dataframe tbody tr th:only-of-type {\n",
       "        vertical-align: middle;\n",
       "    }\n",
       "\n",
       "    .dataframe tbody tr th {\n",
       "        vertical-align: top;\n",
       "    }\n",
       "\n",
       "    .dataframe thead th {\n",
       "        text-align: right;\n",
       "    }\n",
       "</style>\n",
       "<table border=\"1\" class=\"dataframe\">\n",
       "  <thead>\n",
       "    <tr style=\"text-align: right;\">\n",
       "      <th></th>\n",
       "      <th>label</th>\n",
       "      <th>STATION</th>\n",
       "      <th>ENTRIES</th>\n",
       "      <th>EXITS</th>\n",
       "      <th>NET_ENTRIES</th>\n",
       "      <th>NET_EXITS</th>\n",
       "      <th>DAY_OF_WEEK</th>\n",
       "      <th>TOTAL_TRAFFIC</th>\n",
       "    </tr>\n",
       "  </thead>\n",
       "  <tbody>\n",
       "    <tr>\n",
       "      <th>0</th>\n",
       "      <td>Monday</td>\n",
       "      <td>34 ST-HERALD SQ</td>\n",
       "      <td>3.498806e+12</td>\n",
       "      <td>3.498806e+12</td>\n",
       "      <td>8998984.0</td>\n",
       "      <td>8998984.0</td>\n",
       "      <td>0.0</td>\n",
       "      <td>17997968.0</td>\n",
       "    </tr>\n",
       "    <tr>\n",
       "      <th>1</th>\n",
       "      <td>Tuesday</td>\n",
       "      <td>34 ST-HERALD SQ</td>\n",
       "      <td>3.567650e+12</td>\n",
       "      <td>3.567650e+12</td>\n",
       "      <td>10032683.0</td>\n",
       "      <td>10032683.0</td>\n",
       "      <td>29891.0</td>\n",
       "      <td>20065366.0</td>\n",
       "    </tr>\n",
       "    <tr>\n",
       "      <th>2</th>\n",
       "      <td>Wednesday</td>\n",
       "      <td>34 ST-HERALD SQ</td>\n",
       "      <td>3.533349e+12</td>\n",
       "      <td>3.533349e+12</td>\n",
       "      <td>10084246.0</td>\n",
       "      <td>10084246.0</td>\n",
       "      <td>59150.0</td>\n",
       "      <td>20168492.0</td>\n",
       "    </tr>\n",
       "    <tr>\n",
       "      <th>3</th>\n",
       "      <td>Thursday</td>\n",
       "      <td>34 ST-HERALD SQ</td>\n",
       "      <td>3.579659e+12</td>\n",
       "      <td>3.579659e+12</td>\n",
       "      <td>10190326.0</td>\n",
       "      <td>10190326.0</td>\n",
       "      <td>89250.0</td>\n",
       "      <td>20380652.0</td>\n",
       "    </tr>\n",
       "    <tr>\n",
       "      <th>4</th>\n",
       "      <td>Friday</td>\n",
       "      <td>34 ST-HERALD SQ</td>\n",
       "      <td>3.567620e+12</td>\n",
       "      <td>3.567620e+12</td>\n",
       "      <td>10227589.0</td>\n",
       "      <td>10227589.0</td>\n",
       "      <td>119236.0</td>\n",
       "      <td>20455178.0</td>\n",
       "    </tr>\n",
       "  </tbody>\n",
       "</table>\n",
       "</div>"
      ],
      "text/plain": [
       "       label          STATION       ENTRIES         EXITS  NET_ENTRIES  \\\n",
       "0     Monday  34 ST-HERALD SQ  3.498806e+12  3.498806e+12    8998984.0   \n",
       "1    Tuesday  34 ST-HERALD SQ  3.567650e+12  3.567650e+12   10032683.0   \n",
       "2  Wednesday  34 ST-HERALD SQ  3.533349e+12  3.533349e+12   10084246.0   \n",
       "3   Thursday  34 ST-HERALD SQ  3.579659e+12  3.579659e+12   10190326.0   \n",
       "4     Friday  34 ST-HERALD SQ  3.567620e+12  3.567620e+12   10227589.0   \n",
       "\n",
       "    NET_EXITS  DAY_OF_WEEK  TOTAL_TRAFFIC  \n",
       "0   8998984.0          0.0     17997968.0  \n",
       "1  10032683.0      29891.0     20065366.0  \n",
       "2  10084246.0      59150.0     20168492.0  \n",
       "3  10190326.0      89250.0     20380652.0  \n",
       "4  10227589.0     119236.0     20455178.0  "
      ]
     },
     "execution_count": 88,
     "metadata": {},
     "output_type": "execute_result"
    }
   ],
   "source": [
    "HERALD_SQ_data= mta_df_1[mta_df_1['STATION'] =='34 ST-HERALD SQ'] \n",
    "HERALD_SQ_data_df  = HERALD_SQ_data.set_index('label').reindex(cats).reset_index()\n",
    "HERALD_SQ_data_df"
   ]
  },
  {
   "cell_type": "code",
   "execution_count": 89,
   "metadata": {},
   "outputs": [
    {
     "data": {
      "text/plain": [
       "Text(0, 0.5, 'Total Traffic')"
      ]
     },
     "execution_count": 89,
     "metadata": {},
     "output_type": "execute_result"
    },
    {
     "data": {
      "image/png": "[encoded data removed]",
      "text/plain": [
       "<Figure size 432x288 with 1 Axes>"
      ]
     },
     "metadata": {},
     "output_type": "display_data"
    }
   ],
   "source": [
    "y =HERALD_SQ_data_df['TOTAL_TRAFFIC']\n",
    "x =HERALD_SQ_data_df['label']\n",
    "\n",
    "plt.plot(x,y)\n",
    "\n",
    "plt.title(\"34 ST-HERALD SQ\",fontsize=14,weight='bold')\n",
    "plt.xlabel('Day in a week', fontsize=12,weight='bold')\n",
    "plt.ylabel('Total Traffic', fontsize=12,weight='bold')\n",
    "\n"
   ]
  },
  {
   "cell_type": "code",
   "execution_count": 91,
   "metadata": {},
   "outputs": [
    {
     "data": {
      "text/html": [
       "<div>\n",
       "<style scoped>\n",
       "    .dataframe tbody tr th:only-of-type {\n",
       "        vertical-align: middle;\n",
       "    }\n",
       "\n",
       "    .dataframe tbody tr th {\n",
       "        vertical-align: top;\n",
       "    }\n",
       "\n",
       "    .dataframe thead th {\n",
       "        text-align: right;\n",
       "    }\n",
       "</style>\n",
       "<table border=\"1\" class=\"dataframe\">\n",
       "  <thead>\n",
       "    <tr style=\"text-align: right;\">\n",
       "      <th></th>\n",
       "      <th>label</th>\n",
       "      <th>STATION</th>\n",
       "      <th>ENTRIES</th>\n",
       "      <th>EXITS</th>\n",
       "      <th>NET_ENTRIES</th>\n",
       "      <th>NET_EXITS</th>\n",
       "      <th>DAY_OF_WEEK</th>\n",
       "      <th>TOTAL_TRAFFIC</th>\n",
       "    </tr>\n",
       "  </thead>\n",
       "  <tbody>\n",
       "    <tr>\n",
       "      <th>0</th>\n",
       "      <td>Monday</td>\n",
       "      <td>TIMES SQ-42 ST</td>\n",
       "      <td>2.481618e+12</td>\n",
       "      <td>2.481618e+12</td>\n",
       "      <td>7344797.0</td>\n",
       "      <td>7344797.0</td>\n",
       "      <td>0.0</td>\n",
       "      <td>14689594.0</td>\n",
       "    </tr>\n",
       "    <tr>\n",
       "      <th>1</th>\n",
       "      <td>Tuesday</td>\n",
       "      <td>TIMES SQ-42 ST</td>\n",
       "      <td>2.469768e+12</td>\n",
       "      <td>2.469768e+12</td>\n",
       "      <td>8211194.0</td>\n",
       "      <td>8211194.0</td>\n",
       "      <td>27201.0</td>\n",
       "      <td>16422388.0</td>\n",
       "    </tr>\n",
       "    <tr>\n",
       "      <th>2</th>\n",
       "      <td>Wednesday</td>\n",
       "      <td>TIMES SQ-42 ST</td>\n",
       "      <td>2.491713e+12</td>\n",
       "      <td>2.491713e+12</td>\n",
       "      <td>8412834.0</td>\n",
       "      <td>8412834.0</td>\n",
       "      <td>54886.0</td>\n",
       "      <td>16825668.0</td>\n",
       "    </tr>\n",
       "    <tr>\n",
       "      <th>3</th>\n",
       "      <td>Thursday</td>\n",
       "      <td>TIMES SQ-42 ST</td>\n",
       "      <td>2.499383e+12</td>\n",
       "      <td>2.499383e+12</td>\n",
       "      <td>8405383.0</td>\n",
       "      <td>8405383.0</td>\n",
       "      <td>83082.0</td>\n",
       "      <td>16810766.0</td>\n",
       "    </tr>\n",
       "    <tr>\n",
       "      <th>4</th>\n",
       "      <td>Friday</td>\n",
       "      <td>TIMES SQ-42 ST</td>\n",
       "      <td>2.502080e+12</td>\n",
       "      <td>2.502080e+12</td>\n",
       "      <td>8312903.0</td>\n",
       "      <td>8312903.0</td>\n",
       "      <td>110060.0</td>\n",
       "      <td>16625806.0</td>\n",
       "    </tr>\n",
       "  </tbody>\n",
       "</table>\n",
       "</div>"
      ],
      "text/plain": [
       "       label         STATION       ENTRIES         EXITS  NET_ENTRIES  \\\n",
       "0     Monday  TIMES SQ-42 ST  2.481618e+12  2.481618e+12    7344797.0   \n",
       "1    Tuesday  TIMES SQ-42 ST  2.469768e+12  2.469768e+12    8211194.0   \n",
       "2  Wednesday  TIMES SQ-42 ST  2.491713e+12  2.491713e+12    8412834.0   \n",
       "3   Thursday  TIMES SQ-42 ST  2.499383e+12  2.499383e+12    8405383.0   \n",
       "4     Friday  TIMES SQ-42 ST  2.502080e+12  2.502080e+12    8312903.0   \n",
       "\n",
       "   NET_EXITS  DAY_OF_WEEK  TOTAL_TRAFFIC  \n",
       "0  7344797.0          0.0     14689594.0  \n",
       "1  8211194.0      27201.0     16422388.0  \n",
       "2  8412834.0      54886.0     16825668.0  \n",
       "3  8405383.0      83082.0     16810766.0  \n",
       "4  8312903.0     110060.0     16625806.0  "
      ]
     },
     "execution_count": 91,
     "metadata": {},
     "output_type": "execute_result"
    }
   ],
   "source": [
    "TIMES_SQ_data= mta_df_1[mta_df_1['STATION'] =='TIMES SQ-42 ST'] \n",
    "TIMES_SQ_data_df  = TIMES_SQ_data.set_index('label').reindex(cats).reset_index()\n",
    "TIMES_SQ_data_df"
   ]
  },
  {
   "cell_type": "code",
   "execution_count": 92,
   "metadata": {},
   "outputs": [
    {
     "data": {
      "text/plain": [
       "Text(0, 0.5, 'Total Traffic')"
      ]
     },
     "execution_count": 92,
     "metadata": {},
     "output_type": "execute_result"
    },
    {
     "data": {
      "image/png": "[encoded data removed]",
      "text/plain": [
       "<Figure size 432x288 with 1 Axes>"
      ]
     },
     "metadata": {},
     "output_type": "display_data"
    }
   ],
   "source": [
    "y =TIMES_SQ_data_df['TOTAL_TRAFFIC']\n",
    "x =TIMES_SQ_data_df['label']\n",
    "\n",
    "plt.plot(x,y)\n",
    "\n",
    "plt.title(\"TIMES SQ-42 ST\",fontsize=14,weight='bold')\n",
    "plt.xlabel('Day in a week', fontsize=12,weight='bold')\n",
    "plt.ylabel('Total Traffic', fontsize=12,weight='bold')\n",
    "\n"
   ]
  },
  {
   "cell_type": "code",
   "execution_count": null,
   "metadata": {},
   "outputs": [],
   "source": []
  },
  {
   "cell_type": "markdown",
   "metadata": {},
   "source": [
    "## Conduct spatial join and visulize the top stations in map"
   ]
  },
  {
   "cell_type": "markdown",
   "metadata": {},
   "source": [
    "### Conduct Spatial Join"
   ]
  },
  {
   "cell_type": "code",
   "execution_count": 137,
   "metadata": {},
   "outputs": [],
   "source": [
    "url=\"http://web.mta.info/developers/data/nyct/subway/Stations.csv\"\n",
    "s=requests.get(url).content\n",
    "mta_geo=pd.read_csv(io.StringIO(s.decode('utf-8')))"
   ]
  },
  {
   "cell_type": "code",
   "execution_count": 138,
   "metadata": {},
   "outputs": [],
   "source": [
    "mta_geo= mta_geo[['Line','Stop Name', 'Borough', 'GTFS Latitude','GTFS Longitude']]"
   ]
  },
  {
   "cell_type": "code",
   "execution_count": 139,
   "metadata": {},
   "outputs": [],
   "source": [
    "mta_geo.rename(columns = {'Stop Name':'NAME','GTFS Latitude':'LATITUDE','GTFS Longitude':'LONGITUDE'}, inplace = True)"
   ]
  },
  {
   "cell_type": "code",
   "execution_count": 140,
   "metadata": {},
   "outputs": [],
   "source": [
    "mta_geo = mta_geo.apply(lambda x : x.astype(str).str.upper())"
   ]
  },
  {
   "cell_type": "code",
   "execution_count": 150,
   "metadata": {},
   "outputs": [],
   "source": [
    "df_cor_mta = mta_geo.merge(station_data, left_on = 'NAME', right_on ='STATION')"
   ]
  },
  {
   "cell_type": "code",
   "execution_count": 151,
   "metadata": {},
   "outputs": [
    {
     "data": {
      "text/html": [
       "<div>\n",
       "<style scoped>\n",
       "    .dataframe tbody tr th:only-of-type {\n",
       "        vertical-align: middle;\n",
       "    }\n",
       "\n",
       "    .dataframe tbody tr th {\n",
       "        vertical-align: top;\n",
       "    }\n",
       "\n",
       "    .dataframe thead th {\n",
       "        text-align: right;\n",
       "    }\n",
       "</style>\n",
       "<table border=\"1\" class=\"dataframe\">\n",
       "  <thead>\n",
       "    <tr style=\"text-align: right;\">\n",
       "      <th></th>\n",
       "      <th>Line</th>\n",
       "      <th>NAME</th>\n",
       "      <th>Borough</th>\n",
       "      <th>LATITUDE</th>\n",
       "      <th>LONGITUDE</th>\n",
       "      <th>ENTRIES</th>\n",
       "      <th>EXITS</th>\n",
       "      <th>NET_ENTRIES</th>\n",
       "      <th>NET_EXITS</th>\n",
       "      <th>DAY_OF_WEEK</th>\n",
       "      <th>TOTAL_TRAFFIC</th>\n",
       "      <th>STATION</th>\n",
       "    </tr>\n",
       "  </thead>\n",
       "  <tbody>\n",
       "    <tr>\n",
       "      <th>0</th>\n",
       "      <td>ASTORIA</td>\n",
       "      <td>ASTORIA BLVD</td>\n",
       "      <td>Q</td>\n",
       "      <td>40.770258</td>\n",
       "      <td>-73.917843</td>\n",
       "      <td>5.970999e+10</td>\n",
       "      <td>5.970999e+10</td>\n",
       "      <td>3131207.0</td>\n",
       "      <td>3131207.0</td>\n",
       "      <td>26917.0</td>\n",
       "      <td>6262414.0</td>\n",
       "      <td>ASTORIA BLVD</td>\n",
       "    </tr>\n",
       "    <tr>\n",
       "      <th>1</th>\n",
       "      <td>ASTORIA</td>\n",
       "      <td>30 AV</td>\n",
       "      <td>Q</td>\n",
       "      <td>40.766779</td>\n",
       "      <td>-73.921479</td>\n",
       "      <td>8.043834e+10</td>\n",
       "      <td>8.043834e+10</td>\n",
       "      <td>4225791.0</td>\n",
       "      <td>4225791.0</td>\n",
       "      <td>27767.0</td>\n",
       "      <td>8451582.0</td>\n",
       "      <td>30 AV</td>\n",
       "    </tr>\n",
       "    <tr>\n",
       "      <th>2</th>\n",
       "      <td>ASTORIA</td>\n",
       "      <td>BROADWAY</td>\n",
       "      <td>Q</td>\n",
       "      <td>40.76182</td>\n",
       "      <td>-73.925508</td>\n",
       "      <td>9.016265e+10</td>\n",
       "      <td>9.016265e+10</td>\n",
       "      <td>4481303.0</td>\n",
       "      <td>4481303.0</td>\n",
       "      <td>40307.0</td>\n",
       "      <td>8962606.0</td>\n",
       "      <td>BROADWAY</td>\n",
       "    </tr>\n",
       "    <tr>\n",
       "      <th>3</th>\n",
       "      <td>CROSSTOWN</td>\n",
       "      <td>BROADWAY</td>\n",
       "      <td>BK</td>\n",
       "      <td>40.706092</td>\n",
       "      <td>-73.95030799999999</td>\n",
       "      <td>9.016265e+10</td>\n",
       "      <td>9.016265e+10</td>\n",
       "      <td>4481303.0</td>\n",
       "      <td>4481303.0</td>\n",
       "      <td>40307.0</td>\n",
       "      <td>8962606.0</td>\n",
       "      <td>BROADWAY</td>\n",
       "    </tr>\n",
       "    <tr>\n",
       "      <th>4</th>\n",
       "      <td>ASTORIA</td>\n",
       "      <td>36 AV</td>\n",
       "      <td>Q</td>\n",
       "      <td>40.756803999999995</td>\n",
       "      <td>-73.929575</td>\n",
       "      <td>6.194835e+10</td>\n",
       "      <td>6.194835e+10</td>\n",
       "      <td>2536383.0</td>\n",
       "      <td>2536383.0</td>\n",
       "      <td>23380.0</td>\n",
       "      <td>5072766.0</td>\n",
       "      <td>36 AV</td>\n",
       "    </tr>\n",
       "  </tbody>\n",
       "</table>\n",
       "</div>"
      ],
      "text/plain": [
       "        Line          NAME Borough            LATITUDE           LONGITUDE  \\\n",
       "0    ASTORIA  ASTORIA BLVD       Q           40.770258          -73.917843   \n",
       "1    ASTORIA         30 AV       Q           40.766779          -73.921479   \n",
       "2    ASTORIA      BROADWAY       Q            40.76182          -73.925508   \n",
       "3  CROSSTOWN      BROADWAY      BK           40.706092  -73.95030799999999   \n",
       "4    ASTORIA         36 AV       Q  40.756803999999995          -73.929575   \n",
       "\n",
       "        ENTRIES         EXITS  NET_ENTRIES  NET_EXITS  DAY_OF_WEEK  \\\n",
       "0  5.970999e+10  5.970999e+10    3131207.0  3131207.0      26917.0   \n",
       "1  8.043834e+10  8.043834e+10    4225791.0  4225791.0      27767.0   \n",
       "2  9.016265e+10  9.016265e+10    4481303.0  4481303.0      40307.0   \n",
       "3  9.016265e+10  9.016265e+10    4481303.0  4481303.0      40307.0   \n",
       "4  6.194835e+10  6.194835e+10    2536383.0  2536383.0      23380.0   \n",
       "\n",
       "   TOTAL_TRAFFIC       STATION  \n",
       "0      6262414.0  ASTORIA BLVD  \n",
       "1      8451582.0         30 AV  \n",
       "2      8962606.0      BROADWAY  \n",
       "3      8962606.0      BROADWAY  \n",
       "4      5072766.0         36 AV  "
      ]
     },
     "execution_count": 151,
     "metadata": {},
     "output_type": "execute_result"
    }
   ],
   "source": [
    "df_cor_mta.head()"
   ]
  },
  {
   "cell_type": "markdown",
   "metadata": {},
   "source": [
    "\n",
    "## download the NYC  Public Use Microdata Areas (PUMA) geometry fron the NYC Open Data API and read it in with geopandas"
   ]
  },
  {
   "cell_type": "code",
   "execution_count": 159,
   "metadata": {},
   "outputs": [
    {
     "data": {
      "text/plain": [
       "('file.gz', <http.client.HTTPMessage at 0x1db253d208>)"
      ]
     },
     "execution_count": 159,
     "metadata": {},
     "output_type": "execute_result"
    }
   ],
   "source": [
    "url = \"https://data.cityofnewyork.us/api/geospatial/cwiz-gcty?method=export&format=Shapefile\"\n",
    "urllib.request.urlretrieve(url, \"file.gz\")\n"
   ]
  },
  {
   "cell_type": "code",
   "execution_count": 158,
   "metadata": {},
   "outputs": [
    {
     "ename": "SyntaxError",
     "evalue": "invalid syntax (<ipython-input-158-8803d972e384>, line 1)",
     "output_type": "error",
     "traceback": [
      "\u001b[0;36m  File \u001b[0;32m\"<ipython-input-158-8803d972e384>\"\u001b[0;36m, line \u001b[0;32m1\u001b[0m\n\u001b[0;31m    unzip -d $file.gz\u001b[0m\n\u001b[0m             ^\u001b[0m\n\u001b[0;31mSyntaxError\u001b[0m\u001b[0;31m:\u001b[0m invalid syntax\n"
     ]
    }
   ],
   "source": [
    "unzip -d $file.gz"
   ]
  },
  {
   "cell_type": "code",
   "execution_count": null,
   "metadata": {},
   "outputs": [],
   "source": []
  },
  {
   "cell_type": "code",
   "execution_count": null,
   "metadata": {},
   "outputs": [],
   "source": []
  },
  {
   "cell_type": "code",
   "execution_count": null,
   "metadata": {},
   "outputs": [],
   "source": []
  },
  {
   "cell_type": "code",
   "execution_count": null,
   "metadata": {},
   "outputs": [],
   "source": []
  },
  {
   "cell_type": "code",
   "execution_count": null,
   "metadata": {},
   "outputs": [],
   "source": [
    "mta_df[['year','month','day']] = mta_df.READTIME.apply(lambda x: pd.Series(x.strftime(\"%Y,%m,%d\").split(\",\")))"
   ]
  },
  {
   "cell_type": "code",
   "execution_count": null,
   "metadata": {},
   "outputs": [],
   "source": [
    "# Create three columns with year, months, and day\n",
    "mta_df['day'] = mta_df['DATE'].mta_df.day\n",
    "mta_df['month'] = mta_df.DATE.month\n",
    "mta_df['year'] = mta_df.DATE.year"
   ]
  },
  {
   "cell_type": "code",
   "execution_count": null,
   "metadata": {},
   "outputs": [],
   "source": [
    "df['day'] = df['datetime_utc'].dt.day\n",
    "df['month'] = df['datetime_utc'].dt.month\n",
    "df['year'] = df['datetime_utc'].dt.year"
   ]
  },
  {
   "cell_type": "code",
   "execution_count": null,
   "metadata": {},
   "outputs": [],
   "source": [
    "mta_df.head()"
   ]
  },
  {
   "cell_type": "code",
   "execution_count": null,
   "metadata": {},
   "outputs": [],
   "source": [
    "net = ['NET_EXITS', 'NET_ENTRIES']"
   ]
  },
  {
   "cell_type": "code",
   "execution_count": null,
   "metadata": {},
   "outputs": [],
   "source": [
    "#set all negative hourly entries to absolute value\n",
    "for item in net:\n",
    "    mta_df.loc[mta_df[item] < 0, item] = abs(mta_df[item])\n",
    "    mta_df[mta_df[item] < 0]"
   ]
  },
  {
   "cell_type": "code",
   "execution_count": null,
   "metadata": {},
   "outputs": [],
   "source": []
  },
  {
   "cell_type": "code",
   "execution_count": null,
   "metadata": {},
   "outputs": [],
   "source": [
    "#test_turn = random.randint(0,len(ids))\n",
    "\n",
    "#test_id_df = nyc_turnstile_2017[nyc_turnstile_2017['id'] == ids[test_turn]]\n",
    "\n",
    "fig, ax = plt.subplots(figsize=(10, 4))\n",
    "plt.plot(mta_df['READTIME'],mta_df.NET_ENTRIES)\n",
    "plt.plot(mta_df['READTIME'],mta_df.NET_EXITS)\n",
    "#plt.set_xlabel('Date Time')\n",
    "#plt.set_ylabel('Exits')\n",
    "plt.legend(['Entries','Exits'])\n",
    "plt.xlabel('Date and Time')\n",
    "plt.ylabel('Count')\n",
    "plt.title(ids[test_turn])"
   ]
  },
  {
   "cell_type": "code",
   "execution_count": null,
   "metadata": {},
   "outputs": [],
   "source": []
  }
 ],
 "metadata": {
  "kernelspec": {
   "display_name": "Python 3",
   "language": "python",
   "name": "python3"
  },
  "language_info": {
   "codemirror_mode": {
    "name": "ipython",
    "version": 3
   },
   "file_extension": ".py",
   "mimetype": "text/x-python",
   "name": "python",
   "nbconvert_exporter": "python",
   "pygments_lexer": "ipython3",
   "version": "3.7.1"
  }
 },
 "nbformat": 4,
 "nbformat_minor": 2
}
